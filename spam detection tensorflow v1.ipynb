{
 "cells": [
  {
   "cell_type": "markdown",
   "metadata": {},
   "source": [
    "# Spam Classification with TensorFlow"
   ]
  },
  {
   "cell_type": "markdown",
   "metadata": {},
   "source": [
    "The below code uses the template from the [Intro to TensorFlow for Deep Learning](https://www.udacity.com/course/intro-to-tensorflow-for-deep-learning--ud187) tutorial, of which the original authors **(Copyright 2020 The TensorFlow Authors)** have made available under the Apache 2.0 license.\n",
    "\n",
    "The original source code can be found [here](https://colab.research.google.com/github/tensorflow/examples/blob/master/courses/udacity_intro_to_tensorflow_for_deep_learning/l09c04_nlp_embeddings_and_sentiment.ipynb).\n",
    "\n",
    "Modifications have been made to the below code for the purpose of generating appropriate analyses on the Spam Text Message Classification dataset from [Kaggle](https://www.kaggle.com/team-ai/spam-text-message-classification)."
   ]
  },
  {
   "cell_type": "code",
   "execution_count": 1,
   "metadata": {
    "cellView": "form",
    "colab": {},
    "colab_type": "code",
    "id": "_ckMIh7O7s6D"
   },
   "outputs": [],
   "source": [
    "#@title Licensed under the Apache License, Version 2.0 (the \"License\");\n",
    "# you may not use this file except in compliance with the License.\n",
    "# You may obtain a copy of the License at\n",
    "#\n",
    "# https://www.apache.org/licenses/LICENSE-2.0\n",
    "#\n",
    "# Unless required by applicable law or agreed to in writing, software\n",
    "# distributed under the License is distributed on an \"AS IS\" BASIS,\n",
    "# WITHOUT WARRANTIES OR CONDITIONS OF ANY KIND, either express or implied.\n",
    "# See the License for the specific language governing permissions and\n",
    "# limitations under the License."
   ]
  },
  {
   "cell_type": "markdown",
   "metadata": {
    "colab_type": "text",
    "id": "9uBA1i1BbiJn"
   },
   "source": [
    "# Word Embeddings"
   ]
  },
  {
   "cell_type": "markdown",
   "metadata": {
    "colab_type": "text",
    "id": "wqvz1jVgbwIN"
   },
   "source": [
    "## Import TensorFlow and Dataset"
   ]
  },
  {
   "cell_type": "code",
   "execution_count": 2,
   "metadata": {
    "colab": {},
    "colab_type": "code",
    "id": "XIG52aKPdpux"
   },
   "outputs": [],
   "source": [
    "import tensorflow as tf\n",
    "\n",
    "from tensorflow.keras.preprocessing.text import Tokenizer\n",
    "from tensorflow.keras.preprocessing.sequence import pad_sequences"
   ]
  },
  {
   "cell_type": "code",
   "execution_count": 3,
   "metadata": {
    "colab": {},
    "colab_type": "code",
    "id": "6Zvp9NScfMnw"
   },
   "outputs": [
    {
     "data": {
      "text/html": [
       "<div>\n",
       "<style scoped>\n",
       "    .dataframe tbody tr th:only-of-type {\n",
       "        vertical-align: middle;\n",
       "    }\n",
       "\n",
       "    .dataframe tbody tr th {\n",
       "        vertical-align: top;\n",
       "    }\n",
       "\n",
       "    .dataframe thead th {\n",
       "        text-align: right;\n",
       "    }\n",
       "</style>\n",
       "<table border=\"1\" class=\"dataframe\">\n",
       "  <thead>\n",
       "    <tr style=\"text-align: right;\">\n",
       "      <th></th>\n",
       "      <th>Category</th>\n",
       "      <th>Message</th>\n",
       "    </tr>\n",
       "  </thead>\n",
       "  <tbody>\n",
       "    <tr>\n",
       "      <th>0</th>\n",
       "      <td>0</td>\n",
       "      <td>Go until jurong point, crazy.. Available only ...</td>\n",
       "    </tr>\n",
       "    <tr>\n",
       "      <th>1</th>\n",
       "      <td>0</td>\n",
       "      <td>Ok lar... Joking wif u oni...</td>\n",
       "    </tr>\n",
       "    <tr>\n",
       "      <th>2</th>\n",
       "      <td>1</td>\n",
       "      <td>Free entry in 2 a wkly comp to win FA Cup fina...</td>\n",
       "    </tr>\n",
       "    <tr>\n",
       "      <th>3</th>\n",
       "      <td>0</td>\n",
       "      <td>U dun say so early hor... U c already then say...</td>\n",
       "    </tr>\n",
       "    <tr>\n",
       "      <th>4</th>\n",
       "      <td>0</td>\n",
       "      <td>Nah I don't think he goes to usf, he lives aro...</td>\n",
       "    </tr>\n",
       "    <tr>\n",
       "      <th>...</th>\n",
       "      <td>...</td>\n",
       "      <td>...</td>\n",
       "    </tr>\n",
       "    <tr>\n",
       "      <th>5567</th>\n",
       "      <td>1</td>\n",
       "      <td>This is the 2nd time we have tried 2 contact u...</td>\n",
       "    </tr>\n",
       "    <tr>\n",
       "      <th>5568</th>\n",
       "      <td>0</td>\n",
       "      <td>Will ü b going to esplanade fr home?</td>\n",
       "    </tr>\n",
       "    <tr>\n",
       "      <th>5569</th>\n",
       "      <td>0</td>\n",
       "      <td>Pity, * was in mood for that. So...any other s...</td>\n",
       "    </tr>\n",
       "    <tr>\n",
       "      <th>5570</th>\n",
       "      <td>0</td>\n",
       "      <td>The guy did some bitching but I acted like i'd...</td>\n",
       "    </tr>\n",
       "    <tr>\n",
       "      <th>5571</th>\n",
       "      <td>0</td>\n",
       "      <td>Rofl. Its true to its name</td>\n",
       "    </tr>\n",
       "  </tbody>\n",
       "</table>\n",
       "<p>5572 rows × 2 columns</p>\n",
       "</div>"
      ],
      "text/plain": [
       "      Category                                            Message\n",
       "0            0  Go until jurong point, crazy.. Available only ...\n",
       "1            0                      Ok lar... Joking wif u oni...\n",
       "2            1  Free entry in 2 a wkly comp to win FA Cup fina...\n",
       "3            0  U dun say so early hor... U c already then say...\n",
       "4            0  Nah I don't think he goes to usf, he lives aro...\n",
       "...        ...                                                ...\n",
       "5567         1  This is the 2nd time we have tried 2 contact u...\n",
       "5568         0               Will ü b going to esplanade fr home?\n",
       "5569         0  Pity, * was in mood for that. So...any other s...\n",
       "5570         0  The guy did some bitching but I acted like i'd...\n",
       "5571         0                         Rofl. Its true to its name\n",
       "\n",
       "[5572 rows x 2 columns]"
      ]
     },
     "execution_count": 3,
     "metadata": {},
     "output_type": "execute_result"
    }
   ],
   "source": [
    "import matplotlib.pyplot as plt\n",
    "import numpy as np\n",
    "import pandas as pd\n",
    "\n",
    "dataset = pd.read_csv('spam.csv')\n",
    "dataset"
   ]
  },
  {
   "cell_type": "code",
   "execution_count": 4,
   "metadata": {},
   "outputs": [],
   "source": [
    "# ham = 0, spam = 1\n",
    "\n",
    "sentences = dataset['Message'].tolist()\n",
    "labels = dataset['Category'].tolist()\n",
    "\n",
    "# Separate out the sentences and labels into training and test sets\n",
    "training_size = int(len(sentences) * 0.8)\n",
    "\n",
    "training_sentences = sentences[0:training_size]\n",
    "testing_sentences = sentences[training_size:]\n",
    "training_labels = labels[0:training_size]\n",
    "testing_labels = labels[training_size:]\n",
    "\n",
    "# Make labels into numpy arrays for use with the network later\n",
    "training_labels_final = np.array(training_labels)\n",
    "testing_labels_final = np.array(testing_labels)"
   ]
  },
  {
   "cell_type": "markdown",
   "metadata": {
    "colab_type": "text",
    "id": "NHpvqaSigcST"
   },
   "source": [
    "## Tokenize the dataset\n",
    "\n",
    "Tokenize the dataset, including padding and OOV"
   ]
  },
  {
   "cell_type": "code",
   "execution_count": 5,
   "metadata": {
    "colab": {},
    "colab_type": "code",
    "id": "78icewYRgfxh"
   },
   "outputs": [],
   "source": [
    "vocab_size = 1000\n",
    "embedding_dim = 16\n",
    "max_length = 100\n",
    "trunc_type='post'\n",
    "padding_type='post'\n",
    "oov_tok = \"<OOV>\"\n",
    "\n",
    "from tensorflow.keras.preprocessing.text import Tokenizer\n",
    "from tensorflow.keras.preprocessing.sequence import pad_sequences\n",
    "\n",
    "tokenizer = Tokenizer(num_words = vocab_size, oov_token=oov_tok)\n",
    "tokenizer.fit_on_texts(training_sentences)\n",
    "word_index = tokenizer.word_index\n",
    "sequences = tokenizer.texts_to_sequences(training_sentences)\n",
    "padded = pad_sequences(sequences,maxlen=max_length, padding=padding_type, \n",
    "                       truncating=trunc_type)\n",
    "\n",
    "testing_sequences = tokenizer.texts_to_sequences(testing_sentences)\n",
    "testing_padded = pad_sequences(testing_sequences,maxlen=max_length, \n",
    "                               padding=padding_type, truncating=trunc_type)"
   ]
  },
  {
   "cell_type": "markdown",
   "metadata": {
    "colab_type": "text",
    "id": "q4yIEk_8kszh"
   },
   "source": [
    "## Review a Sequence\n",
    "\n",
    "Let's quickly take a look at one of the padded sequences to ensure everything above worked appropriately."
   ]
  },
  {
   "cell_type": "code",
   "execution_count": 6,
   "metadata": {
    "colab": {},
    "colab_type": "code",
    "id": "JTU3FmVGk100"
   },
   "outputs": [
    {
     "name": "stdout",
     "output_type": "stream",
     "text": [
      "ok lar <OOV> wif u <OOV> ? ? ? ? ? ? ? ? ? ? ? ? ? ? ? ? ? ? ? ? ? ? ? ? ? ? ? ? ? ? ? ? ? ? ? ? ? ? ? ? ? ? ? ? ? ? ? ? ? ? ? ? ? ? ? ? ? ? ? ? ? ? ? ? ? ? ? ? ? ? ? ? ? ? ? ? ? ? ? ? ? ? ? ? ? ? ? ? ? ? ? ? ? ?\n",
      "Ok lar... Joking wif u oni...\n"
     ]
    }
   ],
   "source": [
    "reverse_word_index = dict([(value, key) for (key, value) in word_index.items()])\n",
    "\n",
    "def decode_review(text):\n",
    "    return ' '.join([reverse_word_index.get(i, '?') for i in text])\n",
    "\n",
    "print(decode_review(padded[1]))\n",
    "print(training_sentences[1])"
   ]
  },
  {
   "cell_type": "markdown",
   "metadata": {
    "colab_type": "text",
    "id": "RI91liJnlA92"
   },
   "source": [
    "## Train a Text Classification Model with Embeddings"
   ]
  },
  {
   "cell_type": "code",
   "execution_count": 7,
   "metadata": {
    "colab": {},
    "colab_type": "code",
    "id": "bBMgzp-_lMTp"
   },
   "outputs": [
    {
     "name": "stdout",
     "output_type": "stream",
     "text": [
      "Model: \"sequential\"\n",
      "_________________________________________________________________\n",
      "Layer (type)                 Output Shape              Param #   \n",
      "=================================================================\n",
      "embedding (Embedding)        (None, 100, 16)           16000     \n",
      "_________________________________________________________________\n",
      "flatten (Flatten)            (None, 1600)              0         \n",
      "_________________________________________________________________\n",
      "dense (Dense)                (None, 6)                 9606      \n",
      "_________________________________________________________________\n",
      "dense_1 (Dense)              (None, 1)                 7         \n",
      "=================================================================\n",
      "Total params: 25,613\n",
      "Trainable params: 25,613\n",
      "Non-trainable params: 0\n",
      "_________________________________________________________________\n"
     ]
    }
   ],
   "source": [
    "# Note the embedding layer is first, \n",
    "# and the output is only 1 node as it is either 0 or 1 (negative or positive)\n",
    "model = tf.keras.Sequential([\n",
    "    tf.keras.layers.Embedding(vocab_size, embedding_dim, input_length=max_length),\n",
    "    tf.keras.layers.Flatten(),\n",
    "    tf.keras.layers.Dense(6, activation='relu'),\n",
    "    tf.keras.layers.Dense(1, activation='sigmoid')\n",
    "])\n",
    "model.compile(loss='binary_crossentropy',optimizer='adam',metrics=['accuracy'])\n",
    "model.summary()"
   ]
  },
  {
   "cell_type": "code",
   "execution_count": 8,
   "metadata": {
    "colab": {},
    "colab_type": "code",
    "id": "Pfl1W-zVldpn"
   },
   "outputs": [
    {
     "name": "stdout",
     "output_type": "stream",
     "text": [
      "Epoch 1/30\n",
      "140/140 [==============================] - 0s 2ms/step - loss: 0.3331 - accuracy: 0.8649 - val_loss: 0.1806 - val_accuracy: 0.8691\n",
      "Epoch 2/30\n",
      "140/140 [==============================] - 0s 1ms/step - loss: 0.1633 - accuracy: 0.9336 - val_loss: 0.1395 - val_accuracy: 0.9713\n",
      "Epoch 3/30\n",
      "140/140 [==============================] - 0s 1ms/step - loss: 0.1319 - accuracy: 0.9782 - val_loss: 0.1259 - val_accuracy: 0.9812\n",
      "Epoch 4/30\n",
      "140/140 [==============================] - 0s 1ms/step - loss: 0.1157 - accuracy: 0.9854 - val_loss: 0.1176 - val_accuracy: 0.9839\n",
      "Epoch 5/30\n",
      "140/140 [==============================] - 0s 1ms/step - loss: 0.1031 - accuracy: 0.9890 - val_loss: 0.1123 - val_accuracy: 0.9830\n",
      "Epoch 6/30\n",
      "140/140 [==============================] - 0s 1ms/step - loss: 0.0926 - accuracy: 0.9899 - val_loss: 0.1086 - val_accuracy: 0.9830\n",
      "Epoch 7/30\n",
      "140/140 [==============================] - 0s 1ms/step - loss: 0.0836 - accuracy: 0.9921 - val_loss: 0.1037 - val_accuracy: 0.9812\n",
      "Epoch 8/30\n",
      "140/140 [==============================] - 0s 1ms/step - loss: 0.0760 - accuracy: 0.9933 - val_loss: 0.1035 - val_accuracy: 0.9812\n",
      "Epoch 9/30\n",
      "140/140 [==============================] - 0s 1ms/step - loss: 0.0691 - accuracy: 0.9951 - val_loss: 0.1008 - val_accuracy: 0.9821\n",
      "Epoch 10/30\n",
      "140/140 [==============================] - 0s 1ms/step - loss: 0.0547 - accuracy: 0.9962 - val_loss: 0.0601 - val_accuracy: 0.9830\n",
      "Epoch 11/30\n",
      "140/140 [==============================] - 0s 1ms/step - loss: 0.0152 - accuracy: 0.9975 - val_loss: 0.0620 - val_accuracy: 0.9830\n",
      "Epoch 12/30\n",
      "140/140 [==============================] - 0s 1ms/step - loss: 0.0116 - accuracy: 0.9975 - val_loss: 0.0623 - val_accuracy: 0.9830\n",
      "Epoch 13/30\n",
      "140/140 [==============================] - 0s 1ms/step - loss: 0.0098 - accuracy: 0.9978 - val_loss: 0.0666 - val_accuracy: 0.9848\n",
      "Epoch 14/30\n",
      "140/140 [==============================] - 0s 1ms/step - loss: 0.0083 - accuracy: 0.9980 - val_loss: 0.0753 - val_accuracy: 0.9857\n",
      "Epoch 15/30\n",
      "140/140 [==============================] - 0s 1ms/step - loss: 0.0070 - accuracy: 0.9987 - val_loss: 0.0737 - val_accuracy: 0.9857\n",
      "Epoch 16/30\n",
      "140/140 [==============================] - 0s 1ms/step - loss: 0.0062 - accuracy: 0.9989 - val_loss: 0.0772 - val_accuracy: 0.9857\n",
      "Epoch 17/30\n",
      "140/140 [==============================] - 0s 1ms/step - loss: 0.0056 - accuracy: 0.9989 - val_loss: 0.0829 - val_accuracy: 0.9857\n",
      "Epoch 18/30\n",
      "140/140 [==============================] - 0s 1ms/step - loss: 0.0047 - accuracy: 0.9989 - val_loss: 0.0794 - val_accuracy: 0.9857\n",
      "Epoch 19/30\n",
      "140/140 [==============================] - 0s 1ms/step - loss: 0.0042 - accuracy: 0.9991 - val_loss: 0.0817 - val_accuracy: 0.9848\n",
      "Epoch 20/30\n",
      "140/140 [==============================] - 0s 1ms/step - loss: 0.0036 - accuracy: 0.9991 - val_loss: 0.0891 - val_accuracy: 0.9857\n",
      "Epoch 21/30\n",
      "140/140 [==============================] - 0s 1ms/step - loss: 0.0035 - accuracy: 0.9991 - val_loss: 0.0892 - val_accuracy: 0.9848\n",
      "Epoch 22/30\n",
      "140/140 [==============================] - 0s 1ms/step - loss: 0.0029 - accuracy: 0.9991 - val_loss: 0.0934 - val_accuracy: 0.9857\n",
      "Epoch 23/30\n",
      "140/140 [==============================] - 0s 1ms/step - loss: 0.0030 - accuracy: 0.9989 - val_loss: 0.0942 - val_accuracy: 0.9865\n",
      "Epoch 24/30\n",
      "140/140 [==============================] - 0s 1ms/step - loss: 0.0028 - accuracy: 0.9987 - val_loss: 0.0979 - val_accuracy: 0.9857\n",
      "Epoch 25/30\n",
      "140/140 [==============================] - 0s 1ms/step - loss: 0.0028 - accuracy: 0.9991 - val_loss: 0.0989 - val_accuracy: 0.9848\n",
      "Epoch 26/30\n",
      "140/140 [==============================] - 0s 1ms/step - loss: 0.0022 - accuracy: 0.9993 - val_loss: 0.1007 - val_accuracy: 0.9865\n",
      "Epoch 27/30\n",
      "140/140 [==============================] - 0s 1ms/step - loss: 0.0030 - accuracy: 0.9987 - val_loss: 0.0995 - val_accuracy: 0.9857\n",
      "Epoch 28/30\n",
      "140/140 [==============================] - 0s 1ms/step - loss: 0.0022 - accuracy: 0.9996 - val_loss: 0.1029 - val_accuracy: 0.9857\n",
      "Epoch 29/30\n",
      "140/140 [==============================] - 0s 1ms/step - loss: 0.0023 - accuracy: 0.9993 - val_loss: 0.1029 - val_accuracy: 0.9848\n",
      "Epoch 30/30\n",
      "140/140 [==============================] - 0s 1ms/step - loss: 0.0021 - accuracy: 0.9993 - val_loss: 0.1059 - val_accuracy: 0.9857\n",
      "dict_keys(['loss', 'accuracy', 'val_loss', 'val_accuracy'])\n"
     ]
    },
    {
     "data": {
      "image/png": "[encoded data removed]",
      "text/plain": [
       "<Figure size 432x288 with 1 Axes>"
      ]
     },
     "metadata": {
      "needs_background": "light"
     },
     "output_type": "display_data"
    }
   ],
   "source": [
    "num_epochs = 30\n",
    "history=model.fit(padded, training_labels_final, epochs=num_epochs, validation_data=(testing_padded, testing_labels_final))\n",
    "\n",
    "# list all data in history\n",
    "print(history.history.keys())\n",
    "# summarize history for accuracy\n",
    "plt.plot(history.history['loss'])\n",
    "plt.plot(history.history['val_loss'])\n",
    "plt.title('model loss')\n",
    "plt.ylabel('loss')\n",
    "plt.xlabel('epoch')\n",
    "plt.legend(['train', 'val'], loc='upper left')\n",
    "plt.show()"
   ]
  },
  {
   "cell_type": "code",
   "execution_count": 9,
   "metadata": {
    "colab": {},
    "colab_type": "code",
    "id": "S2lB46FirAVx"
   },
   "outputs": [
    {
     "name": "stdout",
     "output_type": "stream",
     "text": [
      "(1000, 16)\n"
     ]
    }
   ],
   "source": [
    "# First get the weights of the embedding layer\n",
    "e = model.layers[0]\n",
    "weights = e.get_weights()[0]\n",
    "print(weights.shape) # shape: (vocab_size, embedding_dim)"
   ]
  },
  {
   "cell_type": "code",
   "execution_count": 10,
   "metadata": {
    "colab": {},
    "colab_type": "code",
    "id": "Xcha0oGemHX2"
   },
   "outputs": [],
   "source": [
    "import io\n",
    "\n",
    "# Write out the embedding vectors and metadata\n",
    "out_v = io.open('vecs.tsv', 'w', encoding='utf-8')\n",
    "out_m = io.open('meta.tsv', 'w', encoding='utf-8')\n",
    "for word_num in range(1, vocab_size):\n",
    "  word = reverse_word_index[word_num]\n",
    "  embeddings = weights[word_num]\n",
    "  out_m.write(word + \"\\n\")\n",
    "  out_v.write('\\t'.join([str(x) for x in embeddings]) + \"\\n\")\n",
    "out_v.close()\n",
    "out_m.close()"
   ]
  },
  {
   "cell_type": "markdown",
   "metadata": {
    "colab_type": "text",
    "id": "GNoxfY-i3Ir1"
   },
   "source": [
    "## Detecting Spam Across New Messages"
   ]
  },
  {
   "cell_type": "code",
   "execution_count": 11,
   "metadata": {
    "colab": {},
    "colab_type": "code",
    "id": "QXtfw-OY3WoZ"
   },
   "outputs": [
    {
     "name": "stdout",
     "output_type": "stream",
     "text": [
      "['Greg, can you call me back once you get this?', 'Congrats on your new iPhone! Click here to claim your prize...', 'Really like that new photo of you', 'Did you hear the news today? Terrible what has happened...', 'Attend this free COVID webinar today: Book your session now...']\n",
      "Greg, can you call me back once you get this?\n",
      "[9.670509e-06]\n",
      "\n",
      "\n",
      "Congrats on your new iPhone! Click here to claim your prize...\n",
      "[0.91056645]\n",
      "\n",
      "\n",
      "Really like that new photo of you\n",
      "[3.0444193e-05]\n",
      "\n",
      "\n",
      "Did you hear the news today? Terrible what has happened...\n",
      "[0.00360294]\n",
      "\n",
      "\n",
      "Attend this free COVID webinar today: Book your session now...\n",
      "[0.37343866]\n",
      "\n",
      "\n"
     ]
    }
   ],
   "source": [
    "# Use the model to predict whether a message is spam\n",
    "text_messages = ['Greg, can you call me back once you get this?',\n",
    "                'Congrats on your new iPhone! Click here to claim your prize...', \n",
    "                'Really like that new photo of you',\n",
    "                'Did you hear the news today? Terrible what has happened...',\n",
    "                'Attend this free COVID webinar today: Book your session now...']\n",
    "\n",
    "print(text_messages) \n",
    "\n",
    "# Create the sequences\n",
    "padding_type='post'\n",
    "sample_sequences = tokenizer.texts_to_sequences(text_messages)\n",
    "fakes_padded = pad_sequences(sample_sequences, padding=padding_type, maxlen=max_length)           \n",
    "\n",
    "classes = model.predict(fakes_padded)\n",
    "\n",
    "# The closer the class is to 1, the more likely that the message is spam\n",
    "for x in range(len(text_messages)):\n",
    "  print(text_messages[x])\n",
    "  print(classes[x])\n",
    "  print('\\n')"
   ]
  }
 ],
 "metadata": {
  "accelerator": "GPU",
  "colab": {
   "collapsed_sections": [],
   "name": "l09c04_nlp_embeddings_and_sentiment.ipynb",
   "provenance": [],
   "toc_visible": true
  },
  "kernelspec": {
   "display_name": "Python 3",
   "language": "python",
   "name": "python3"
  },
  "language_info": {
   "codemirror_mode": {
    "name": "ipython",
    "version": 3
   },
   "file_extension": ".py",
   "mimetype": "text/x-python",
   "name": "python",
   "nbconvert_exporter": "python",
   "pygments_lexer": "ipython3",
   "version": "3.6.9"
  }
 },
 "nbformat": 4,
 "nbformat_minor": 1
}
